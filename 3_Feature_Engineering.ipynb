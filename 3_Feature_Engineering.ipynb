{
 "cells": [
  {
   "cell_type": "markdown",
   "metadata": {},
   "source": [
    "## Imports"
   ]
  },
  {
   "cell_type": "code",
   "execution_count": 361,
   "metadata": {},
   "outputs": [],
   "source": [
    "import pandas as pd\n",
    "import numpy as np\n",
    "import seaborn as sns\n",
    "import matplotlib.pyplot as plt\n",
    "import statsmodels.api as sm\n",
    "# encoder\n",
    "from sklearn.preprocessing import LabelEncoder, OneHotEncoder, OrdinalEncoder\n",
    "# scaling\n",
    "from scipy.stats import boxcox\n",
    "from sklearn.preprocessing import StandardScaler, MinMaxScaler, RobustScaler, MaxAbsScaler, Normalizer\n",
    "import os\n",
    "from typing import List\n",
    "import string\n",
    "import time\n",
    "import re\n",
    "import ast\n",
    "import warnings\n",
    "warnings.filterwarnings('ignore')"
   ]
  },
  {
   "cell_type": "code",
   "execution_count": 240,
   "metadata": {},
   "outputs": [],
   "source": [
    "DATA_DIR = os.path.join(os.getcwd(), \"Dataset\", \"clean_data\")\n",
    "PATH = os.path.join(DATA_DIR, \"clean_train.csv\")"
   ]
  },
  {
   "cell_type": "code",
   "execution_count": 241,
   "metadata": {},
   "outputs": [],
   "source": [
    "train_df = pd.read_csv(PATH)"
   ]
  },
  {
   "cell_type": "code",
   "execution_count": 242,
   "metadata": {},
   "outputs": [],
   "source": [
    "df = train_df.copy()"
   ]
  },
  {
   "cell_type": "code",
   "execution_count": 243,
   "metadata": {},
   "outputs": [
    {
     "data": {
      "text/html": [
       "<div>\n",
       "<style scoped>\n",
       "    .dataframe tbody tr th:only-of-type {\n",
       "        vertical-align: middle;\n",
       "    }\n",
       "\n",
       "    .dataframe tbody tr th {\n",
       "        vertical-align: top;\n",
       "    }\n",
       "\n",
       "    .dataframe thead th {\n",
       "        text-align: right;\n",
       "    }\n",
       "</style>\n",
       "<table border=\"1\" class=\"dataframe\">\n",
       "  <thead>\n",
       "    <tr style=\"text-align: right;\">\n",
       "      <th></th>\n",
       "      <th>PassengerId</th>\n",
       "      <th>Survived</th>\n",
       "      <th>Pclass</th>\n",
       "      <th>Age</th>\n",
       "      <th>SibSp</th>\n",
       "      <th>Parch</th>\n",
       "      <th>Fare</th>\n",
       "      <th>Sex</th>\n",
       "      <th>Ticket</th>\n",
       "      <th>Cabin</th>\n",
       "      <th>Embarked</th>\n",
       "      <th>Name</th>\n",
       "    </tr>\n",
       "  </thead>\n",
       "  <tbody>\n",
       "    <tr>\n",
       "      <th>0</th>\n",
       "      <td>1</td>\n",
       "      <td>0</td>\n",
       "      <td>3</td>\n",
       "      <td>22.0</td>\n",
       "      <td>1</td>\n",
       "      <td>0</td>\n",
       "      <td>7.2500</td>\n",
       "      <td>male</td>\n",
       "      <td>A/5 21171</td>\n",
       "      <td>Missing</td>\n",
       "      <td>S</td>\n",
       "      <td>Braund, Mr. Owen Harris</td>\n",
       "    </tr>\n",
       "    <tr>\n",
       "      <th>1</th>\n",
       "      <td>2</td>\n",
       "      <td>1</td>\n",
       "      <td>1</td>\n",
       "      <td>38.0</td>\n",
       "      <td>1</td>\n",
       "      <td>0</td>\n",
       "      <td>71.2833</td>\n",
       "      <td>female</td>\n",
       "      <td>PC 17599</td>\n",
       "      <td>C85</td>\n",
       "      <td>C</td>\n",
       "      <td>Cumings, Mrs. John Bradley (Florence Briggs Th...</td>\n",
       "    </tr>\n",
       "    <tr>\n",
       "      <th>2</th>\n",
       "      <td>3</td>\n",
       "      <td>1</td>\n",
       "      <td>3</td>\n",
       "      <td>26.0</td>\n",
       "      <td>0</td>\n",
       "      <td>0</td>\n",
       "      <td>7.9250</td>\n",
       "      <td>female</td>\n",
       "      <td>STON/O2. 3101282</td>\n",
       "      <td>Missing</td>\n",
       "      <td>S</td>\n",
       "      <td>Heikkinen, Miss. Laina</td>\n",
       "    </tr>\n",
       "    <tr>\n",
       "      <th>3</th>\n",
       "      <td>4</td>\n",
       "      <td>1</td>\n",
       "      <td>1</td>\n",
       "      <td>35.0</td>\n",
       "      <td>1</td>\n",
       "      <td>0</td>\n",
       "      <td>53.1000</td>\n",
       "      <td>female</td>\n",
       "      <td>113803</td>\n",
       "      <td>C123</td>\n",
       "      <td>S</td>\n",
       "      <td>Futrelle, Mrs. Jacques Heath (Lily May Peel)</td>\n",
       "    </tr>\n",
       "    <tr>\n",
       "      <th>4</th>\n",
       "      <td>5</td>\n",
       "      <td>0</td>\n",
       "      <td>3</td>\n",
       "      <td>35.0</td>\n",
       "      <td>0</td>\n",
       "      <td>0</td>\n",
       "      <td>8.0500</td>\n",
       "      <td>male</td>\n",
       "      <td>373450</td>\n",
       "      <td>Missing</td>\n",
       "      <td>S</td>\n",
       "      <td>Allen, Mr. William Henry</td>\n",
       "    </tr>\n",
       "  </tbody>\n",
       "</table>\n",
       "</div>"
      ],
      "text/plain": [
       "   PassengerId  Survived  Pclass   Age  SibSp  Parch     Fare     Sex  \\\n",
       "0            1         0       3  22.0      1      0   7.2500    male   \n",
       "1            2         1       1  38.0      1      0  71.2833  female   \n",
       "2            3         1       3  26.0      0      0   7.9250  female   \n",
       "3            4         1       1  35.0      1      0  53.1000  female   \n",
       "4            5         0       3  35.0      0      0   8.0500    male   \n",
       "\n",
       "             Ticket    Cabin Embarked  \\\n",
       "0         A/5 21171  Missing        S   \n",
       "1          PC 17599      C85        C   \n",
       "2  STON/O2. 3101282  Missing        S   \n",
       "3            113803     C123        S   \n",
       "4            373450  Missing        S   \n",
       "\n",
       "                                                Name  \n",
       "0                            Braund, Mr. Owen Harris  \n",
       "1  Cumings, Mrs. John Bradley (Florence Briggs Th...  \n",
       "2                             Heikkinen, Miss. Laina  \n",
       "3       Futrelle, Mrs. Jacques Heath (Lily May Peel)  \n",
       "4                           Allen, Mr. William Henry  "
      ]
     },
     "execution_count": 243,
     "metadata": {},
     "output_type": "execute_result"
    }
   ],
   "source": [
    "df.head()"
   ]
  },
  {
   "cell_type": "code",
   "execution_count": 244,
   "metadata": {},
   "outputs": [],
   "source": [
    "TARGET_COL = [\"Survived\"]\n",
    "ID_COL = [\"PassengerId\"]\n",
    "TEXT_FEATURES = [\"Name\"]\n",
    "CAT_FEATURES = [col for col in df.columns if df[col].dtype == \"O\" if col not in TARGET_COL+ID_COL+TEXT_FEATURES]\n",
    "NUM_FEATURES = [col for col in df.columns if df[col].dtype != \"O\" if col not in TARGET_COL+ID_COL+TEXT_FEATURES]"
   ]
  },
  {
   "cell_type": "markdown",
   "metadata": {},
   "source": [
    "### Functions to use"
   ]
  },
  {
   "cell_type": "code",
   "execution_count": 436,
   "metadata": {},
   "outputs": [],
   "source": [
    "class DataEncoding:\n",
    "\n",
    "    def __init__(self, clean_df: pd.DataFrame):\n",
    "        self.original_df = clean_df.copy()\n",
    "        self.df = clean_df.copy() # here will perform our encodings\n",
    "\n",
    "    # label encoding\n",
    "    def lable_encode(self, input_col:str, output_col:str):\n",
    "        \"\"\"\n",
    "        label encodes the passed column from dataframe\n",
    "        and adds encoded data to dataframe under new columns\n",
    "        name reffred to variable `output_col`.\n",
    "\n",
    "        Args:\n",
    "            input_col (str): column name that exists in dataframe.\n",
    "            output_col (str): column name for encoded data.\n",
    "\n",
    "        Returns:\n",
    "            None\n",
    "\n",
    "        Raises:\n",
    "            ValueError: If the input_col `string` is empty.\n",
    "            ValueError: If the output_col `string` is empty.\n",
    "\n",
    "        Example:\n",
    "            >>> \n",
    "        \"\"\"\n",
    "        label_encode = LabelEncoder()\n",
    "        label_encode.fit(self.df[input_col])\n",
    "        self.df[output_col] = label_encode.transform(self.df[input_col])\n",
    "        print(f\"Applied Label Encoded : {input_col} --> {output_col}\")\n",
    "\n",
    "    # ordinal encoding\n",
    "    def ordinal_encode(self, input_col:str, output_col:str, categories=List[str]) -> None:\n",
    "        \"\"\"\n",
    "        ordinally encodes the passed column using categories from dataframe\n",
    "        and adds encoded data to dataframe under new columns\n",
    "        name reffred to variable `output_col`.\n",
    "\n",
    "        Args:\n",
    "            input_col (str): column name that exists in dataframe.\n",
    "            output_col (str): column name for encoded data.\n",
    "            cotegories (list): list of all unique values from input col.\n",
    "\n",
    "        Returns:\n",
    "            None\n",
    "\n",
    "        Raises:\n",
    "            ValueError: If the input_col `string` is empty.\n",
    "            ValueError: If the output_col `string` is empty.\n",
    "\n",
    "        Example:\n",
    "            >>> \n",
    "        \"\"\"\n",
    "        if len(categories) > 0:\n",
    "            ordinal_encod = OrdinalEncoder(categories=[categories])\n",
    "        else:\n",
    "            ordinal_encod = OrdinalEncoder(categories=[self.df[input_col].unique().tolist()])\n",
    "        self.df[output_col] = ordinal_encod.fit_transform(self.df[[input_col]])\n",
    "        print(f\"Applied Ordinal Encoded : {input_col} --> {output_col}\")\n",
    "\n",
    "    # onehot encoding\n",
    "    def onehot_encode(self, input_col:str, output_col_initials:str) -> None:\n",
    "        \"\"\"\n",
    "        applies one hot encoding on passed `input_col`\n",
    "        an renames all onehot encoded columns with \n",
    "        initials with `output_col_initials`.\n",
    "\n",
    "        Args:\n",
    "            input_col (str): column name that exists in dataframe.\n",
    "            output_col_initials (str): column name for encoded data.\n",
    "\n",
    "        Returns:\n",
    "            None\n",
    "\n",
    "        Raises:\n",
    "            ValueError: If the input_col `string` is empty.\n",
    "            ValueError: If the output_col_initials `string` is empty.\n",
    "\n",
    "        Example:\n",
    "            >>> \n",
    "        \"\"\"\n",
    "        if len(output_col_initials) == 0:\n",
    "            output_col_initials = input_col\n",
    "        # initalized encoder\n",
    "        onehot_encode = OneHotEncoder()\n",
    "        # applying encoding\n",
    "        onehot_encoded = onehot_encode.fit_transform(self.df[[input_col]]).toarray()\n",
    "\n",
    "        # Create a DataFrame for the encoded data\n",
    "        df_encoded = pd.DataFrame(onehot_encoded, columns=onehot_encode.get_feature_names_out([output_col_initials]))\n",
    "\n",
    "        # Concatenate with original DataFrame\n",
    "        self.df = pd.concat([self.df, df_encoded], axis=1)\n",
    "        print(f\"OneHotEncoder Applied on : {input_col}\")\n",
    "\n",
    "    def map_custom_encoding(self, input_col:str, output_col:str, encoding:dict) -> None:\n",
    "        # Apply custom encoding using map\n",
    "        self.df[output_col] = self.df[input_col].map(encoding)\n",
    "        print(f\"Applied Custom Encoded : {input_col} --> {output_col}\")\n",
    "\n",
    "    def feature_tranformation(self, input_col:str, type_of_trans: str):\n",
    "        if type_of_trans == \"Logarithmic\":\n",
    "            self.df[input_col+\"_Log\"] = np.log(self.df[input_col])\n",
    "        elif type_of_trans == \"Logarithmic_10\": # base 10\n",
    "            self.df[input_col+\"_Log_10\"] = np.log10(self.df[input_col])\n",
    "        elif type_of_trans == \"Exponential\":\n",
    "            self.df[input_col+\"_Exp\"] = np.exp(self.df[input_col])\n",
    "        elif type_of_trans == \"Exponential_2\": # power 2\n",
    "            self.df[input_col+\"_Exp_2\"] = np.exp2(self.df[input_col])\n",
    "        elif type_of_trans == \"Power\":\n",
    "            transformed_data, _ = boxcox(self.df[input_col])\n",
    "            self.df[input_col+\"_Power\"] = transformed_data\n",
    "        elif type_of_trans == \"Square\":\n",
    "            self.df[input_col+\"_Squr\"] = np.power(self.df[input_col], 2)\n",
    "        elif type_of_trans == \"Cubic\":\n",
    "            self.df[input_col+\"_Cube\"] = np.power(self.df[input_col], 3)\n",
    "        else:\n",
    "            print(f\"No transformation applied: {input_col}\")\n",
    "            # self.df[input_col] = self.df[input_col]\n",
    "\n",
    "    def feature_scaling(self, input_col:str, type_of_scale:str):\n",
    "        if type_of_scale == \"Normal_l1\":\n",
    "            scaler = Normalizer(norm='l1')\n",
    "            self.df[input_col+\"_Norm_l1\"] = scaler.fit_transform(np.array(self.df[input_col]).reshape(-1, 1))\n",
    "\n",
    "        elif type_of_scale == \"Normal_l2\":\n",
    "            scaler = Normalizer(norm='l2')\n",
    "            self.df[input_col+\"_Norm_l2\"] = scaler.fit_transform(np.array(self.df[input_col]).reshape(-1, 1))\n",
    "\n",
    "        elif type_of_scale == \"MaxAbcScaler\":\n",
    "            scaler = MaxAbsScaler()\n",
    "            self.df[input_col+\"_MaxAbs\"] = scaler.fit_transform(np.array(self.df[input_col]).reshape(-1, 1))\n",
    "\n",
    "        elif type_of_scale == \"Rodust\":\n",
    "            scaler = RobustScaler()\n",
    "            self.df[input_col+\"_Robust\"] = scaler.fit_transform(np.array(self.df[input_col]).reshape(-1, 1))\n",
    "\n",
    "        elif type_of_scale == \"MinMax\":\n",
    "            scaler = MinMaxScaler()\n",
    "            self.df[input_col+\"_MinMax\"] = scaler.fit_transform(np.array(self.df[input_col]).reshape(-1, 1))\n",
    "\n",
    "        elif type_of_scale == \"Standard\":\n",
    "            scaler = StandardScaler()\n",
    "            self.df[input_col+\"_Standard\"] = scaler.fit_transform(np.array(self.df[input_col]).reshape(-1, 1))\n",
    "\n",
    "    def transform_with_all_technique(self, input_col:str):\n",
    "        techniques = [\"Logarithmic\", \"Logarithmic_10\", \"Exponential\", \"Exponential_2\", \"Power\", \"Square\", \"Cubic\"]\n",
    "        for tech in techniques:\n",
    "            self.feature_tranformation(input_col, tech)\n",
    "            print(f\"Transformed {input_col} with : {tech}\")\n",
    "\n",
    "    def scaling_with_all_technique(self, input_col:str):\n",
    "        techniques = [\"Normal_l1\", \"Normal_l2\", \"MaxAbcScaler\", \"Rodust\", \"MinMax\", \"Standard\"]\n",
    "        for tech in techniques:\n",
    "            self.feature_scaling(input_col, tech)\n",
    "            print(f\"Scaled {input_col} with : {tech}\")            "
   ]
  },
  {
   "cell_type": "markdown",
   "metadata": {},
   "source": [
    "### Example to use functions"
   ]
  },
  {
   "cell_type": "code",
   "execution_count": 417,
   "metadata": {},
   "outputs": [],
   "source": [
    "my_df = pd.DataFrame(\n",
    "    {\n",
    "        \"label\": ['male', 'female', 'male', 'female', 'male', 'female', 'female', 'male', 'male', 'female'],\n",
    "        \"ordinal\": ['jan', 'feb', 'march', 'march', 'march', 'feb', 'feb', 'jan', 'feb', 'jan'] ,\n",
    "        \"onehot\": [\"violate\", \"indigo\", \"blue\", \"green\", \"orange\", \"yellow\", \"red\", \"white\", \"black\", \"brown\"],\n",
    "        \"numerical\": [np.random.randint(0, 10000) for _ in range(10)]\n",
    "    }\n",
    ")\n",
    "\n",
    "encode_obj = DataEncoding(my_df)"
   ]
  },
  {
   "cell_type": "markdown",
   "metadata": {},
   "source": [
    "#### Categorical Transformations"
   ]
  },
  {
   "cell_type": "code",
   "execution_count": 418,
   "metadata": {},
   "outputs": [
    {
     "name": "stdout",
     "output_type": "stream",
     "text": [
      "Applied Label Encoded : label --> label_encode\n"
     ]
    }
   ],
   "source": [
    "encode_obj.lable_encode(\"label\", \"label_encode\")"
   ]
  },
  {
   "cell_type": "code",
   "execution_count": 419,
   "metadata": {},
   "outputs": [
    {
     "name": "stdout",
     "output_type": "stream",
     "text": [
      "Applied Ordinal Encoded : ordinal --> ordinal_encode\n"
     ]
    }
   ],
   "source": [
    "encode_obj.ordinal_encode(\"ordinal\", \"ordinal_encode\", ['march', 'feb', 'jan'])"
   ]
  },
  {
   "cell_type": "code",
   "execution_count": 420,
   "metadata": {},
   "outputs": [
    {
     "name": "stdout",
     "output_type": "stream",
     "text": [
      "OneHotEncoder Applied on : onehot\n"
     ]
    }
   ],
   "source": [
    "encode_obj.onehot_encode(\"onehot\", \"onehot\")"
   ]
  },
  {
   "cell_type": "code",
   "execution_count": 421,
   "metadata": {},
   "outputs": [
    {
     "data": {
      "text/html": [
       "<div>\n",
       "<style scoped>\n",
       "    .dataframe tbody tr th:only-of-type {\n",
       "        vertical-align: middle;\n",
       "    }\n",
       "\n",
       "    .dataframe tbody tr th {\n",
       "        vertical-align: top;\n",
       "    }\n",
       "\n",
       "    .dataframe thead th {\n",
       "        text-align: right;\n",
       "    }\n",
       "</style>\n",
       "<table border=\"1\" class=\"dataframe\">\n",
       "  <thead>\n",
       "    <tr style=\"text-align: right;\">\n",
       "      <th></th>\n",
       "      <th>label</th>\n",
       "      <th>ordinal</th>\n",
       "      <th>onehot</th>\n",
       "      <th>numerical</th>\n",
       "      <th>label_encode</th>\n",
       "      <th>ordinal_encode</th>\n",
       "      <th>onehot_black</th>\n",
       "      <th>onehot_blue</th>\n",
       "      <th>onehot_brown</th>\n",
       "      <th>onehot_green</th>\n",
       "      <th>onehot_indigo</th>\n",
       "      <th>onehot_orange</th>\n",
       "      <th>onehot_red</th>\n",
       "      <th>onehot_violate</th>\n",
       "      <th>onehot_white</th>\n",
       "      <th>onehot_yellow</th>\n",
       "    </tr>\n",
       "  </thead>\n",
       "  <tbody>\n",
       "    <tr>\n",
       "      <th>0</th>\n",
       "      <td>male</td>\n",
       "      <td>jan</td>\n",
       "      <td>violate</td>\n",
       "      <td>7301</td>\n",
       "      <td>1</td>\n",
       "      <td>2.0</td>\n",
       "      <td>0.0</td>\n",
       "      <td>0.0</td>\n",
       "      <td>0.0</td>\n",
       "      <td>0.0</td>\n",
       "      <td>0.0</td>\n",
       "      <td>0.0</td>\n",
       "      <td>0.0</td>\n",
       "      <td>1.0</td>\n",
       "      <td>0.0</td>\n",
       "      <td>0.0</td>\n",
       "    </tr>\n",
       "    <tr>\n",
       "      <th>1</th>\n",
       "      <td>female</td>\n",
       "      <td>feb</td>\n",
       "      <td>indigo</td>\n",
       "      <td>9627</td>\n",
       "      <td>0</td>\n",
       "      <td>1.0</td>\n",
       "      <td>0.0</td>\n",
       "      <td>0.0</td>\n",
       "      <td>0.0</td>\n",
       "      <td>0.0</td>\n",
       "      <td>1.0</td>\n",
       "      <td>0.0</td>\n",
       "      <td>0.0</td>\n",
       "      <td>0.0</td>\n",
       "      <td>0.0</td>\n",
       "      <td>0.0</td>\n",
       "    </tr>\n",
       "    <tr>\n",
       "      <th>2</th>\n",
       "      <td>male</td>\n",
       "      <td>march</td>\n",
       "      <td>blue</td>\n",
       "      <td>9251</td>\n",
       "      <td>1</td>\n",
       "      <td>0.0</td>\n",
       "      <td>0.0</td>\n",
       "      <td>1.0</td>\n",
       "      <td>0.0</td>\n",
       "      <td>0.0</td>\n",
       "      <td>0.0</td>\n",
       "      <td>0.0</td>\n",
       "      <td>0.0</td>\n",
       "      <td>0.0</td>\n",
       "      <td>0.0</td>\n",
       "      <td>0.0</td>\n",
       "    </tr>\n",
       "    <tr>\n",
       "      <th>3</th>\n",
       "      <td>female</td>\n",
       "      <td>march</td>\n",
       "      <td>green</td>\n",
       "      <td>5756</td>\n",
       "      <td>0</td>\n",
       "      <td>0.0</td>\n",
       "      <td>0.0</td>\n",
       "      <td>0.0</td>\n",
       "      <td>0.0</td>\n",
       "      <td>1.0</td>\n",
       "      <td>0.0</td>\n",
       "      <td>0.0</td>\n",
       "      <td>0.0</td>\n",
       "      <td>0.0</td>\n",
       "      <td>0.0</td>\n",
       "      <td>0.0</td>\n",
       "    </tr>\n",
       "    <tr>\n",
       "      <th>4</th>\n",
       "      <td>male</td>\n",
       "      <td>march</td>\n",
       "      <td>orange</td>\n",
       "      <td>5200</td>\n",
       "      <td>1</td>\n",
       "      <td>0.0</td>\n",
       "      <td>0.0</td>\n",
       "      <td>0.0</td>\n",
       "      <td>0.0</td>\n",
       "      <td>0.0</td>\n",
       "      <td>0.0</td>\n",
       "      <td>1.0</td>\n",
       "      <td>0.0</td>\n",
       "      <td>0.0</td>\n",
       "      <td>0.0</td>\n",
       "      <td>0.0</td>\n",
       "    </tr>\n",
       "  </tbody>\n",
       "</table>\n",
       "</div>"
      ],
      "text/plain": [
       "    label ordinal   onehot  numerical  label_encode  ordinal_encode  \\\n",
       "0    male     jan  violate       7301             1             2.0   \n",
       "1  female     feb   indigo       9627             0             1.0   \n",
       "2    male   march     blue       9251             1             0.0   \n",
       "3  female   march    green       5756             0             0.0   \n",
       "4    male   march   orange       5200             1             0.0   \n",
       "\n",
       "   onehot_black  onehot_blue  onehot_brown  onehot_green  onehot_indigo  \\\n",
       "0           0.0          0.0           0.0           0.0            0.0   \n",
       "1           0.0          0.0           0.0           0.0            1.0   \n",
       "2           0.0          1.0           0.0           0.0            0.0   \n",
       "3           0.0          0.0           0.0           1.0            0.0   \n",
       "4           0.0          0.0           0.0           0.0            0.0   \n",
       "\n",
       "   onehot_orange  onehot_red  onehot_violate  onehot_white  onehot_yellow  \n",
       "0            0.0         0.0             1.0           0.0            0.0  \n",
       "1            0.0         0.0             0.0           0.0            0.0  \n",
       "2            0.0         0.0             0.0           0.0            0.0  \n",
       "3            0.0         0.0             0.0           0.0            0.0  \n",
       "4            1.0         0.0             0.0           0.0            0.0  "
      ]
     },
     "execution_count": 421,
     "metadata": {},
     "output_type": "execute_result"
    }
   ],
   "source": [
    "encode_obj.df.head()"
   ]
  },
  {
   "cell_type": "markdown",
   "metadata": {},
   "source": [
    "#### Numerical Transformations"
   ]
  },
  {
   "cell_type": "code",
   "execution_count": 429,
   "metadata": {},
   "outputs": [],
   "source": [
    "encode_trans = DataEncoding(my_df)"
   ]
  },
  {
   "cell_type": "code",
   "execution_count": 430,
   "metadata": {},
   "outputs": [
    {
     "data": {
      "text/html": [
       "<div>\n",
       "<style scoped>\n",
       "    .dataframe tbody tr th:only-of-type {\n",
       "        vertical-align: middle;\n",
       "    }\n",
       "\n",
       "    .dataframe tbody tr th {\n",
       "        vertical-align: top;\n",
       "    }\n",
       "\n",
       "    .dataframe thead th {\n",
       "        text-align: right;\n",
       "    }\n",
       "</style>\n",
       "<table border=\"1\" class=\"dataframe\">\n",
       "  <thead>\n",
       "    <tr style=\"text-align: right;\">\n",
       "      <th></th>\n",
       "      <th>label</th>\n",
       "      <th>ordinal</th>\n",
       "      <th>onehot</th>\n",
       "      <th>numerical</th>\n",
       "    </tr>\n",
       "  </thead>\n",
       "  <tbody>\n",
       "    <tr>\n",
       "      <th>0</th>\n",
       "      <td>male</td>\n",
       "      <td>jan</td>\n",
       "      <td>violate</td>\n",
       "      <td>7301</td>\n",
       "    </tr>\n",
       "    <tr>\n",
       "      <th>1</th>\n",
       "      <td>female</td>\n",
       "      <td>feb</td>\n",
       "      <td>indigo</td>\n",
       "      <td>9627</td>\n",
       "    </tr>\n",
       "    <tr>\n",
       "      <th>2</th>\n",
       "      <td>male</td>\n",
       "      <td>march</td>\n",
       "      <td>blue</td>\n",
       "      <td>9251</td>\n",
       "    </tr>\n",
       "    <tr>\n",
       "      <th>3</th>\n",
       "      <td>female</td>\n",
       "      <td>march</td>\n",
       "      <td>green</td>\n",
       "      <td>5756</td>\n",
       "    </tr>\n",
       "    <tr>\n",
       "      <th>4</th>\n",
       "      <td>male</td>\n",
       "      <td>march</td>\n",
       "      <td>orange</td>\n",
       "      <td>5200</td>\n",
       "    </tr>\n",
       "  </tbody>\n",
       "</table>\n",
       "</div>"
      ],
      "text/plain": [
       "    label ordinal   onehot  numerical\n",
       "0    male     jan  violate       7301\n",
       "1  female     feb   indigo       9627\n",
       "2    male   march     blue       9251\n",
       "3  female   march    green       5756\n",
       "4    male   march   orange       5200"
      ]
     },
     "execution_count": 430,
     "metadata": {},
     "output_type": "execute_result"
    }
   ],
   "source": [
    "encode_trans.original_df.head()"
   ]
  },
  {
   "cell_type": "code",
   "execution_count": 431,
   "metadata": {},
   "outputs": [
    {
     "name": "stdout",
     "output_type": "stream",
     "text": [
      "Transformed numerical with : Logarithmic\n",
      "Transformed numerical with : Logarithmic_10\n",
      "Transformed numerical with : Exponential\n",
      "Transformed numerical with : Exponential_2\n",
      "Transformed numerical with : Power\n",
      "Transformed numerical with : Square\n",
      "Transformed numerical with : Cubic\n"
     ]
    }
   ],
   "source": [
    "encode_trans.transform_with_all_technique(\"numerical\")"
   ]
  },
  {
   "cell_type": "code",
   "execution_count": 432,
   "metadata": {},
   "outputs": [
    {
     "data": {
      "text/html": [
       "<div>\n",
       "<style scoped>\n",
       "    .dataframe tbody tr th:only-of-type {\n",
       "        vertical-align: middle;\n",
       "    }\n",
       "\n",
       "    .dataframe tbody tr th {\n",
       "        vertical-align: top;\n",
       "    }\n",
       "\n",
       "    .dataframe thead th {\n",
       "        text-align: right;\n",
       "    }\n",
       "</style>\n",
       "<table border=\"1\" class=\"dataframe\">\n",
       "  <thead>\n",
       "    <tr style=\"text-align: right;\">\n",
       "      <th></th>\n",
       "      <th>label</th>\n",
       "      <th>ordinal</th>\n",
       "      <th>onehot</th>\n",
       "      <th>numerical</th>\n",
       "      <th>numerical_Log</th>\n",
       "      <th>numerical_Log_10</th>\n",
       "      <th>numerical_Exp</th>\n",
       "      <th>numerical_Exp_2</th>\n",
       "      <th>numerical_Power</th>\n",
       "      <th>numerical_Squr</th>\n",
       "      <th>numerical_Cube</th>\n",
       "    </tr>\n",
       "  </thead>\n",
       "  <tbody>\n",
       "    <tr>\n",
       "      <th>0</th>\n",
       "      <td>male</td>\n",
       "      <td>jan</td>\n",
       "      <td>violate</td>\n",
       "      <td>7301</td>\n",
       "      <td>8.895767</td>\n",
       "      <td>3.863382</td>\n",
       "      <td>inf</td>\n",
       "      <td>inf</td>\n",
       "      <td>13240.275851</td>\n",
       "      <td>53304601</td>\n",
       "      <td>389176891901</td>\n",
       "    </tr>\n",
       "    <tr>\n",
       "      <th>1</th>\n",
       "      <td>female</td>\n",
       "      <td>feb</td>\n",
       "      <td>indigo</td>\n",
       "      <td>9627</td>\n",
       "      <td>9.172327</td>\n",
       "      <td>3.983491</td>\n",
       "      <td>inf</td>\n",
       "      <td>inf</td>\n",
       "      <td>17824.961231</td>\n",
       "      <td>92679129</td>\n",
       "      <td>892221974883</td>\n",
       "    </tr>\n",
       "    <tr>\n",
       "      <th>2</th>\n",
       "      <td>male</td>\n",
       "      <td>march</td>\n",
       "      <td>blue</td>\n",
       "      <td>9251</td>\n",
       "      <td>9.132487</td>\n",
       "      <td>3.966189</td>\n",
       "      <td>inf</td>\n",
       "      <td>inf</td>\n",
       "      <td>17077.592222</td>\n",
       "      <td>85581001</td>\n",
       "      <td>791709840251</td>\n",
       "    </tr>\n",
       "    <tr>\n",
       "      <th>3</th>\n",
       "      <td>female</td>\n",
       "      <td>march</td>\n",
       "      <td>green</td>\n",
       "      <td>5756</td>\n",
       "      <td>8.657998</td>\n",
       "      <td>3.760121</td>\n",
       "      <td>inf</td>\n",
       "      <td>inf</td>\n",
       "      <td>10253.591163</td>\n",
       "      <td>33131536</td>\n",
       "      <td>190705121216</td>\n",
       "    </tr>\n",
       "    <tr>\n",
       "      <th>4</th>\n",
       "      <td>male</td>\n",
       "      <td>march</td>\n",
       "      <td>orange</td>\n",
       "      <td>5200</td>\n",
       "      <td>8.556414</td>\n",
       "      <td>3.716003</td>\n",
       "      <td>inf</td>\n",
       "      <td>inf</td>\n",
       "      <td>9192.690754</td>\n",
       "      <td>27040000</td>\n",
       "      <td>140608000000</td>\n",
       "    </tr>\n",
       "  </tbody>\n",
       "</table>\n",
       "</div>"
      ],
      "text/plain": [
       "    label ordinal   onehot  numerical  numerical_Log  numerical_Log_10  \\\n",
       "0    male     jan  violate       7301       8.895767          3.863382   \n",
       "1  female     feb   indigo       9627       9.172327          3.983491   \n",
       "2    male   march     blue       9251       9.132487          3.966189   \n",
       "3  female   march    green       5756       8.657998          3.760121   \n",
       "4    male   march   orange       5200       8.556414          3.716003   \n",
       "\n",
       "   numerical_Exp  numerical_Exp_2  numerical_Power  numerical_Squr  \\\n",
       "0            inf              inf     13240.275851        53304601   \n",
       "1            inf              inf     17824.961231        92679129   \n",
       "2            inf              inf     17077.592222        85581001   \n",
       "3            inf              inf     10253.591163        33131536   \n",
       "4            inf              inf      9192.690754        27040000   \n",
       "\n",
       "   numerical_Cube  \n",
       "0    389176891901  \n",
       "1    892221974883  \n",
       "2    791709840251  \n",
       "3    190705121216  \n",
       "4    140608000000  "
      ]
     },
     "execution_count": 432,
     "metadata": {},
     "output_type": "execute_result"
    }
   ],
   "source": [
    "encode_trans.df.head()"
   ]
  },
  {
   "cell_type": "markdown",
   "metadata": {},
   "source": [
    "#### Numerical Scaling and Normalization"
   ]
  },
  {
   "cell_type": "code",
   "execution_count": 437,
   "metadata": {},
   "outputs": [],
   "source": [
    "encode_scl = DataEncoding(my_df)"
   ]
  },
  {
   "cell_type": "code",
   "execution_count": 438,
   "metadata": {},
   "outputs": [
    {
     "data": {
      "text/html": [
       "<div>\n",
       "<style scoped>\n",
       "    .dataframe tbody tr th:only-of-type {\n",
       "        vertical-align: middle;\n",
       "    }\n",
       "\n",
       "    .dataframe tbody tr th {\n",
       "        vertical-align: top;\n",
       "    }\n",
       "\n",
       "    .dataframe thead th {\n",
       "        text-align: right;\n",
       "    }\n",
       "</style>\n",
       "<table border=\"1\" class=\"dataframe\">\n",
       "  <thead>\n",
       "    <tr style=\"text-align: right;\">\n",
       "      <th></th>\n",
       "      <th>label</th>\n",
       "      <th>ordinal</th>\n",
       "      <th>onehot</th>\n",
       "      <th>numerical</th>\n",
       "    </tr>\n",
       "  </thead>\n",
       "  <tbody>\n",
       "    <tr>\n",
       "      <th>0</th>\n",
       "      <td>male</td>\n",
       "      <td>jan</td>\n",
       "      <td>violate</td>\n",
       "      <td>7301</td>\n",
       "    </tr>\n",
       "    <tr>\n",
       "      <th>1</th>\n",
       "      <td>female</td>\n",
       "      <td>feb</td>\n",
       "      <td>indigo</td>\n",
       "      <td>9627</td>\n",
       "    </tr>\n",
       "    <tr>\n",
       "      <th>2</th>\n",
       "      <td>male</td>\n",
       "      <td>march</td>\n",
       "      <td>blue</td>\n",
       "      <td>9251</td>\n",
       "    </tr>\n",
       "    <tr>\n",
       "      <th>3</th>\n",
       "      <td>female</td>\n",
       "      <td>march</td>\n",
       "      <td>green</td>\n",
       "      <td>5756</td>\n",
       "    </tr>\n",
       "    <tr>\n",
       "      <th>4</th>\n",
       "      <td>male</td>\n",
       "      <td>march</td>\n",
       "      <td>orange</td>\n",
       "      <td>5200</td>\n",
       "    </tr>\n",
       "  </tbody>\n",
       "</table>\n",
       "</div>"
      ],
      "text/plain": [
       "    label ordinal   onehot  numerical\n",
       "0    male     jan  violate       7301\n",
       "1  female     feb   indigo       9627\n",
       "2    male   march     blue       9251\n",
       "3  female   march    green       5756\n",
       "4    male   march   orange       5200"
      ]
     },
     "execution_count": 438,
     "metadata": {},
     "output_type": "execute_result"
    }
   ],
   "source": [
    "encode_scl.original_df.head()"
   ]
  },
  {
   "cell_type": "code",
   "execution_count": 439,
   "metadata": {},
   "outputs": [
    {
     "name": "stdout",
     "output_type": "stream",
     "text": [
      "Scaled numerical with : Normal_l1\n",
      "Scaled numerical with : Normal_l2\n",
      "Scaled numerical with : MaxAbcScaler\n",
      "Scaled numerical with : Rodust\n",
      "Scaled numerical with : MinMax\n",
      "Scaled numerical with : Standard\n"
     ]
    }
   ],
   "source": [
    "encode_scl.scaling_with_all_technique(\"numerical\")"
   ]
  },
  {
   "cell_type": "code",
   "execution_count": 440,
   "metadata": {},
   "outputs": [
    {
     "data": {
      "text/html": [
       "<div>\n",
       "<style scoped>\n",
       "    .dataframe tbody tr th:only-of-type {\n",
       "        vertical-align: middle;\n",
       "    }\n",
       "\n",
       "    .dataframe tbody tr th {\n",
       "        vertical-align: top;\n",
       "    }\n",
       "\n",
       "    .dataframe thead th {\n",
       "        text-align: right;\n",
       "    }\n",
       "</style>\n",
       "<table border=\"1\" class=\"dataframe\">\n",
       "  <thead>\n",
       "    <tr style=\"text-align: right;\">\n",
       "      <th></th>\n",
       "      <th>label</th>\n",
       "      <th>ordinal</th>\n",
       "      <th>onehot</th>\n",
       "      <th>numerical</th>\n",
       "      <th>numerical_Norm_l1</th>\n",
       "      <th>numerical_Norm_l2</th>\n",
       "      <th>numerical_MaxAbs</th>\n",
       "      <th>numerical_Robust</th>\n",
       "      <th>numerical_MinMax</th>\n",
       "      <th>numerical_Standard</th>\n",
       "    </tr>\n",
       "  </thead>\n",
       "  <tbody>\n",
       "    <tr>\n",
       "      <th>0</th>\n",
       "      <td>male</td>\n",
       "      <td>jan</td>\n",
       "      <td>violate</td>\n",
       "      <td>7301</td>\n",
       "      <td>1.0</td>\n",
       "      <td>1.0</td>\n",
       "      <td>0.758388</td>\n",
       "      <td>0.766524</td>\n",
       "      <td>0.749542</td>\n",
       "      <td>0.540562</td>\n",
       "    </tr>\n",
       "    <tr>\n",
       "      <th>1</th>\n",
       "      <td>female</td>\n",
       "      <td>feb</td>\n",
       "      <td>indigo</td>\n",
       "      <td>9627</td>\n",
       "      <td>1.0</td>\n",
       "      <td>1.0</td>\n",
       "      <td>1.000000</td>\n",
       "      <td>1.903238</td>\n",
       "      <td>1.000000</td>\n",
       "      <td>1.366351</td>\n",
       "    </tr>\n",
       "    <tr>\n",
       "      <th>2</th>\n",
       "      <td>male</td>\n",
       "      <td>march</td>\n",
       "      <td>blue</td>\n",
       "      <td>9251</td>\n",
       "      <td>1.0</td>\n",
       "      <td>1.0</td>\n",
       "      <td>0.960943</td>\n",
       "      <td>1.719487</td>\n",
       "      <td>0.959513</td>\n",
       "      <td>1.232861</td>\n",
       "    </tr>\n",
       "    <tr>\n",
       "      <th>3</th>\n",
       "      <td>female</td>\n",
       "      <td>march</td>\n",
       "      <td>green</td>\n",
       "      <td>5756</td>\n",
       "      <td>1.0</td>\n",
       "      <td>1.0</td>\n",
       "      <td>0.597902</td>\n",
       "      <td>0.011484</td>\n",
       "      <td>0.583181</td>\n",
       "      <td>-0.007953</td>\n",
       "    </tr>\n",
       "    <tr>\n",
       "      <th>4</th>\n",
       "      <td>male</td>\n",
       "      <td>march</td>\n",
       "      <td>orange</td>\n",
       "      <td>5200</td>\n",
       "      <td>1.0</td>\n",
       "      <td>1.0</td>\n",
       "      <td>0.540148</td>\n",
       "      <td>-0.260232</td>\n",
       "      <td>0.523312</td>\n",
       "      <td>-0.205347</td>\n",
       "    </tr>\n",
       "  </tbody>\n",
       "</table>\n",
       "</div>"
      ],
      "text/plain": [
       "    label ordinal   onehot  numerical  numerical_Norm_l1  numerical_Norm_l2  \\\n",
       "0    male     jan  violate       7301                1.0                1.0   \n",
       "1  female     feb   indigo       9627                1.0                1.0   \n",
       "2    male   march     blue       9251                1.0                1.0   \n",
       "3  female   march    green       5756                1.0                1.0   \n",
       "4    male   march   orange       5200                1.0                1.0   \n",
       "\n",
       "   numerical_MaxAbs  numerical_Robust  numerical_MinMax  numerical_Standard  \n",
       "0          0.758388          0.766524          0.749542            0.540562  \n",
       "1          1.000000          1.903238          1.000000            1.366351  \n",
       "2          0.960943          1.719487          0.959513            1.232861  \n",
       "3          0.597902          0.011484          0.583181           -0.007953  \n",
       "4          0.540148         -0.260232          0.523312           -0.205347  "
      ]
     },
     "execution_count": 440,
     "metadata": {},
     "output_type": "execute_result"
    }
   ],
   "source": [
    "encode_scl.df.head()"
   ]
  },
  {
   "cell_type": "markdown",
   "metadata": {},
   "source": [
    "# Feature Engineering Starts"
   ]
  },
  {
   "cell_type": "markdown",
   "metadata": {},
   "source": [
    "## Handeling Text Feature"
   ]
  },
  {
   "cell_type": "code",
   "execution_count": 277,
   "metadata": {},
   "outputs": [
    {
     "data": {
      "text/plain": [
       "['Name']"
      ]
     },
     "execution_count": 277,
     "metadata": {},
     "output_type": "execute_result"
    }
   ],
   "source": [
    "TEXT_FEATURES"
   ]
  },
  {
   "cell_type": "code",
   "execution_count": 302,
   "metadata": {},
   "outputs": [],
   "source": [
    "# copying text features\n",
    "TEXT_DF = df[TEXT_FEATURES].copy()"
   ]
  },
  {
   "cell_type": "code",
   "execution_count": 337,
   "metadata": {},
   "outputs": [],
   "source": [
    "encode_text = DataEncoding(TEXT_DF)"
   ]
  },
  {
   "cell_type": "code",
   "execution_count": 304,
   "metadata": {},
   "outputs": [
    {
     "data": {
      "text/html": [
       "<div>\n",
       "<style scoped>\n",
       "    .dataframe tbody tr th:only-of-type {\n",
       "        vertical-align: middle;\n",
       "    }\n",
       "\n",
       "    .dataframe tbody tr th {\n",
       "        vertical-align: top;\n",
       "    }\n",
       "\n",
       "    .dataframe thead th {\n",
       "        text-align: right;\n",
       "    }\n",
       "</style>\n",
       "<table border=\"1\" class=\"dataframe\">\n",
       "  <thead>\n",
       "    <tr style=\"text-align: right;\">\n",
       "      <th></th>\n",
       "      <th>Name</th>\n",
       "    </tr>\n",
       "  </thead>\n",
       "  <tbody>\n",
       "    <tr>\n",
       "      <th>0</th>\n",
       "      <td>Braund, Mr. Owen Harris</td>\n",
       "    </tr>\n",
       "    <tr>\n",
       "      <th>1</th>\n",
       "      <td>Cumings, Mrs. John Bradley (Florence Briggs Th...</td>\n",
       "    </tr>\n",
       "    <tr>\n",
       "      <th>2</th>\n",
       "      <td>Heikkinen, Miss. Laina</td>\n",
       "    </tr>\n",
       "    <tr>\n",
       "      <th>3</th>\n",
       "      <td>Futrelle, Mrs. Jacques Heath (Lily May Peel)</td>\n",
       "    </tr>\n",
       "    <tr>\n",
       "      <th>4</th>\n",
       "      <td>Allen, Mr. William Henry</td>\n",
       "    </tr>\n",
       "  </tbody>\n",
       "</table>\n",
       "</div>"
      ],
      "text/plain": [
       "                                                Name\n",
       "0                            Braund, Mr. Owen Harris\n",
       "1  Cumings, Mrs. John Bradley (Florence Briggs Th...\n",
       "2                             Heikkinen, Miss. Laina\n",
       "3       Futrelle, Mrs. Jacques Heath (Lily May Peel)\n",
       "4                           Allen, Mr. William Henry"
      ]
     },
     "execution_count": 304,
     "metadata": {},
     "output_type": "execute_result"
    }
   ],
   "source": [
    "encode_text.df.head()"
   ]
  },
  {
   "cell_type": "code",
   "execution_count": 305,
   "metadata": {},
   "outputs": [
    {
     "data": {
      "text/plain": [
       "0      4\n",
       "1      7\n",
       "2      3\n",
       "3      7\n",
       "4      4\n",
       "      ..\n",
       "886    3\n",
       "887    4\n",
       "888    5\n",
       "889    4\n",
       "890    3\n",
       "Name: Name, Length: 891, dtype: int64"
      ]
     },
     "execution_count": 305,
     "metadata": {},
     "output_type": "execute_result"
    }
   ],
   "source": [
    "TEXT_DF[\"Name\"].apply(lambda x: len(x.split()))"
   ]
  },
  {
   "cell_type": "code",
   "execution_count": 306,
   "metadata": {},
   "outputs": [],
   "source": [
    "# number of letters in name\n",
    "encode_text.df[\"Name_Words\"] = TEXT_DF[\"Name\"].apply(lambda x: len(x.split()))\n",
    "# number of words\n",
    "encode_text.df[\"Name_Length\"] = TEXT_DF[\"Name\"].apply(lambda x: len(x))\n",
    "# keeping only "
   ]
  },
  {
   "cell_type": "code",
   "execution_count": 307,
   "metadata": {},
   "outputs": [
    {
     "data": {
      "text/html": [
       "<div>\n",
       "<style scoped>\n",
       "    .dataframe tbody tr th:only-of-type {\n",
       "        vertical-align: middle;\n",
       "    }\n",
       "\n",
       "    .dataframe tbody tr th {\n",
       "        vertical-align: top;\n",
       "    }\n",
       "\n",
       "    .dataframe thead th {\n",
       "        text-align: right;\n",
       "    }\n",
       "</style>\n",
       "<table border=\"1\" class=\"dataframe\">\n",
       "  <thead>\n",
       "    <tr style=\"text-align: right;\">\n",
       "      <th></th>\n",
       "      <th>Name</th>\n",
       "      <th>Name_Words</th>\n",
       "      <th>Name_Length</th>\n",
       "    </tr>\n",
       "  </thead>\n",
       "  <tbody>\n",
       "    <tr>\n",
       "      <th>0</th>\n",
       "      <td>Braund, Mr. Owen Harris</td>\n",
       "      <td>4</td>\n",
       "      <td>23</td>\n",
       "    </tr>\n",
       "    <tr>\n",
       "      <th>1</th>\n",
       "      <td>Cumings, Mrs. John Bradley (Florence Briggs Th...</td>\n",
       "      <td>7</td>\n",
       "      <td>51</td>\n",
       "    </tr>\n",
       "    <tr>\n",
       "      <th>2</th>\n",
       "      <td>Heikkinen, Miss. Laina</td>\n",
       "      <td>3</td>\n",
       "      <td>22</td>\n",
       "    </tr>\n",
       "    <tr>\n",
       "      <th>3</th>\n",
       "      <td>Futrelle, Mrs. Jacques Heath (Lily May Peel)</td>\n",
       "      <td>7</td>\n",
       "      <td>44</td>\n",
       "    </tr>\n",
       "    <tr>\n",
       "      <th>4</th>\n",
       "      <td>Allen, Mr. William Henry</td>\n",
       "      <td>4</td>\n",
       "      <td>24</td>\n",
       "    </tr>\n",
       "  </tbody>\n",
       "</table>\n",
       "</div>"
      ],
      "text/plain": [
       "                                                Name  Name_Words  Name_Length\n",
       "0                            Braund, Mr. Owen Harris           4           23\n",
       "1  Cumings, Mrs. John Bradley (Florence Briggs Th...           7           51\n",
       "2                             Heikkinen, Miss. Laina           3           22\n",
       "3       Futrelle, Mrs. Jacques Heath (Lily May Peel)           7           44\n",
       "4                           Allen, Mr. William Henry           4           24"
      ]
     },
     "execution_count": 307,
     "metadata": {},
     "output_type": "execute_result"
    }
   ],
   "source": [
    "encode_text.df.head()"
   ]
  },
  {
   "cell_type": "markdown",
   "metadata": {},
   "source": [
    "- Here we are trying to get name initials from those names line `Mr., Mrs, Miss., Dr.` .,etc"
   ]
  },
  {
   "cell_type": "code",
   "execution_count": 308,
   "metadata": {},
   "outputs": [
    {
     "data": {
      "text/plain": [
       "'Braund, Mr. Owen Harris'"
      ]
     },
     "execution_count": 308,
     "metadata": {},
     "output_type": "execute_result"
    }
   ],
   "source": [
    "TEXT_DF[\"Name\"][0]"
   ]
  },
  {
   "cell_type": "code",
   "execution_count": 309,
   "metadata": {},
   "outputs": [],
   "source": [
    "encode_text.df[\"Name_Init\"] = TEXT_DF[\"Name\"].apply(lambda word: list(filter(lambda word: word.endswith('.'), word.split()))[0][:-1])"
   ]
  },
  {
   "cell_type": "code",
   "execution_count": 310,
   "metadata": {},
   "outputs": [
    {
     "data": {
      "text/html": [
       "<div>\n",
       "<style scoped>\n",
       "    .dataframe tbody tr th:only-of-type {\n",
       "        vertical-align: middle;\n",
       "    }\n",
       "\n",
       "    .dataframe tbody tr th {\n",
       "        vertical-align: top;\n",
       "    }\n",
       "\n",
       "    .dataframe thead th {\n",
       "        text-align: right;\n",
       "    }\n",
       "</style>\n",
       "<table border=\"1\" class=\"dataframe\">\n",
       "  <thead>\n",
       "    <tr style=\"text-align: right;\">\n",
       "      <th></th>\n",
       "      <th>Name</th>\n",
       "      <th>Name_Words</th>\n",
       "      <th>Name_Length</th>\n",
       "      <th>Name_Init</th>\n",
       "    </tr>\n",
       "  </thead>\n",
       "  <tbody>\n",
       "    <tr>\n",
       "      <th>0</th>\n",
       "      <td>Braund, Mr. Owen Harris</td>\n",
       "      <td>4</td>\n",
       "      <td>23</td>\n",
       "      <td>Mr</td>\n",
       "    </tr>\n",
       "    <tr>\n",
       "      <th>1</th>\n",
       "      <td>Cumings, Mrs. John Bradley (Florence Briggs Th...</td>\n",
       "      <td>7</td>\n",
       "      <td>51</td>\n",
       "      <td>Mrs</td>\n",
       "    </tr>\n",
       "    <tr>\n",
       "      <th>2</th>\n",
       "      <td>Heikkinen, Miss. Laina</td>\n",
       "      <td>3</td>\n",
       "      <td>22</td>\n",
       "      <td>Miss</td>\n",
       "    </tr>\n",
       "    <tr>\n",
       "      <th>3</th>\n",
       "      <td>Futrelle, Mrs. Jacques Heath (Lily May Peel)</td>\n",
       "      <td>7</td>\n",
       "      <td>44</td>\n",
       "      <td>Mrs</td>\n",
       "    </tr>\n",
       "    <tr>\n",
       "      <th>4</th>\n",
       "      <td>Allen, Mr. William Henry</td>\n",
       "      <td>4</td>\n",
       "      <td>24</td>\n",
       "      <td>Mr</td>\n",
       "    </tr>\n",
       "  </tbody>\n",
       "</table>\n",
       "</div>"
      ],
      "text/plain": [
       "                                                Name  Name_Words  Name_Length  \\\n",
       "0                            Braund, Mr. Owen Harris           4           23   \n",
       "1  Cumings, Mrs. John Bradley (Florence Briggs Th...           7           51   \n",
       "2                             Heikkinen, Miss. Laina           3           22   \n",
       "3       Futrelle, Mrs. Jacques Heath (Lily May Peel)           7           44   \n",
       "4                           Allen, Mr. William Henry           4           24   \n",
       "\n",
       "  Name_Init  \n",
       "0        Mr  \n",
       "1       Mrs  \n",
       "2      Miss  \n",
       "3       Mrs  \n",
       "4        Mr  "
      ]
     },
     "execution_count": 310,
     "metadata": {},
     "output_type": "execute_result"
    }
   ],
   "source": [
    "encode_text.df.head()"
   ]
  },
  {
   "cell_type": "code",
   "execution_count": 311,
   "metadata": {},
   "outputs": [
    {
     "data": {
      "text/html": [
       "<div>\n",
       "<style scoped>\n",
       "    .dataframe tbody tr th:only-of-type {\n",
       "        vertical-align: middle;\n",
       "    }\n",
       "\n",
       "    .dataframe tbody tr th {\n",
       "        vertical-align: top;\n",
       "    }\n",
       "\n",
       "    .dataframe thead th {\n",
       "        text-align: right;\n",
       "    }\n",
       "</style>\n",
       "<table border=\"1\" class=\"dataframe\">\n",
       "  <thead>\n",
       "    <tr style=\"text-align: right;\">\n",
       "      <th></th>\n",
       "      <th>count</th>\n",
       "      <th>unique</th>\n",
       "      <th>top</th>\n",
       "      <th>freq</th>\n",
       "    </tr>\n",
       "  </thead>\n",
       "  <tbody>\n",
       "    <tr>\n",
       "      <th>Name_Init</th>\n",
       "      <td>891</td>\n",
       "      <td>17</td>\n",
       "      <td>Mr</td>\n",
       "      <td>517</td>\n",
       "    </tr>\n",
       "  </tbody>\n",
       "</table>\n",
       "</div>"
      ],
      "text/plain": [
       "          count unique top freq\n",
       "Name_Init   891     17  Mr  517"
      ]
     },
     "execution_count": 311,
     "metadata": {},
     "output_type": "execute_result"
    }
   ],
   "source": [
    "encode_text.df[[\"Name_Init\"]].describe().T"
   ]
  },
  {
   "cell_type": "code",
   "execution_count": 312,
   "metadata": {},
   "outputs": [
    {
     "data": {
      "text/plain": [
       "<Axes: xlabel='count', ylabel='Name_Init'>"
      ]
     },
     "execution_count": 312,
     "metadata": {},
     "output_type": "execute_result"
    },
    {
     "data": {
      "image/png": "[encoded data removed]",
      "text/plain": [
       "<Figure size 640x480 with 1 Axes>"
      ]
     },
     "metadata": {},
     "output_type": "display_data"
    }
   ],
   "source": [
    "sns.countplot(data=encode_text.df, y=\"Name_Init\")"
   ]
  },
  {
   "cell_type": "markdown",
   "metadata": {},
   "source": [
    "### Feature Encoding"
   ]
  },
  {
   "cell_type": "code",
   "execution_count": 313,
   "metadata": {},
   "outputs": [
    {
     "name": "stdout",
     "output_type": "stream",
     "text": [
      "['Mr', 'Miss', 'Mrs', 'Master', 'Dr', 'Rev', 'Mlle', 'Major', 'Col', 'Countess', 'Capt', 'Ms', 'Sir', 'Lady', 'Mme', 'Don', 'Jonkheer']\n"
     ]
    }
   ],
   "source": [
    "# name initials\n",
    "name_init = encode_text.df[\"Name_Init\"].value_counts(ascending=False).keys().tolist()\n",
    "print(name_init)"
   ]
  },
  {
   "cell_type": "code",
   "execution_count": 338,
   "metadata": {},
   "outputs": [
    {
     "name": "stdout",
     "output_type": "stream",
     "text": [
      "Applied Label Encoded : Name_Init --> Name_Init_labelencode\n",
      "Applied Ordinal Encoded : Name_Init --> Name_Init_ordinalencode\n",
      "OneHotEncoder Applied on : Name_Init\n"
     ]
    }
   ],
   "source": [
    "encode_text.lable_encode(\"Name_Init\", \"Name_Init_labelencode\")\n",
    "encode_text.ordinal_encode(\"Name_Init\",\"Name_Init_ordinalencode\", name_init)\n",
    "encode_text.onehot_encode(\"Name_Init\",\"Name_Init\")"
   ]
  },
  {
   "cell_type": "code",
   "execution_count": 317,
   "metadata": {},
   "outputs": [],
   "source": [
    "TEXT_DF = encode_text.df.copy()"
   ]
  },
  {
   "cell_type": "code",
   "execution_count": 318,
   "metadata": {},
   "outputs": [
    {
     "data": {
      "text/html": [
       "<div>\n",
       "<style scoped>\n",
       "    .dataframe tbody tr th:only-of-type {\n",
       "        vertical-align: middle;\n",
       "    }\n",
       "\n",
       "    .dataframe tbody tr th {\n",
       "        vertical-align: top;\n",
       "    }\n",
       "\n",
       "    .dataframe thead th {\n",
       "        text-align: right;\n",
       "    }\n",
       "</style>\n",
       "<table border=\"1\" class=\"dataframe\">\n",
       "  <thead>\n",
       "    <tr style=\"text-align: right;\">\n",
       "      <th></th>\n",
       "      <th>Name</th>\n",
       "      <th>Name_Words</th>\n",
       "      <th>Name_Length</th>\n",
       "      <th>Name_Init</th>\n",
       "      <th>Name_Init_labelencode</th>\n",
       "      <th>Name_Init_ordinalencode</th>\n",
       "      <th>Name_Init_Capt</th>\n",
       "      <th>Name_Init_Col</th>\n",
       "      <th>Name_Init_Countess</th>\n",
       "      <th>Name_Init_Don</th>\n",
       "      <th>...</th>\n",
       "      <th>Name_Init_Major</th>\n",
       "      <th>Name_Init_Master</th>\n",
       "      <th>Name_Init_Miss</th>\n",
       "      <th>Name_Init_Mlle</th>\n",
       "      <th>Name_Init_Mme</th>\n",
       "      <th>Name_Init_Mr</th>\n",
       "      <th>Name_Init_Mrs</th>\n",
       "      <th>Name_Init_Ms</th>\n",
       "      <th>Name_Init_Rev</th>\n",
       "      <th>Name_Init_Sir</th>\n",
       "    </tr>\n",
       "  </thead>\n",
       "  <tbody>\n",
       "    <tr>\n",
       "      <th>0</th>\n",
       "      <td>Braund, Mr. Owen Harris</td>\n",
       "      <td>4</td>\n",
       "      <td>23</td>\n",
       "      <td>Mr</td>\n",
       "      <td>12</td>\n",
       "      <td>0.0</td>\n",
       "      <td>0.0</td>\n",
       "      <td>0.0</td>\n",
       "      <td>0.0</td>\n",
       "      <td>0.0</td>\n",
       "      <td>...</td>\n",
       "      <td>0.0</td>\n",
       "      <td>0.0</td>\n",
       "      <td>0.0</td>\n",
       "      <td>0.0</td>\n",
       "      <td>0.0</td>\n",
       "      <td>1.0</td>\n",
       "      <td>0.0</td>\n",
       "      <td>0.0</td>\n",
       "      <td>0.0</td>\n",
       "      <td>0.0</td>\n",
       "    </tr>\n",
       "    <tr>\n",
       "      <th>1</th>\n",
       "      <td>Cumings, Mrs. John Bradley (Florence Briggs Th...</td>\n",
       "      <td>7</td>\n",
       "      <td>51</td>\n",
       "      <td>Mrs</td>\n",
       "      <td>13</td>\n",
       "      <td>2.0</td>\n",
       "      <td>0.0</td>\n",
       "      <td>0.0</td>\n",
       "      <td>0.0</td>\n",
       "      <td>0.0</td>\n",
       "      <td>...</td>\n",
       "      <td>0.0</td>\n",
       "      <td>0.0</td>\n",
       "      <td>0.0</td>\n",
       "      <td>0.0</td>\n",
       "      <td>0.0</td>\n",
       "      <td>0.0</td>\n",
       "      <td>1.0</td>\n",
       "      <td>0.0</td>\n",
       "      <td>0.0</td>\n",
       "      <td>0.0</td>\n",
       "    </tr>\n",
       "    <tr>\n",
       "      <th>2</th>\n",
       "      <td>Heikkinen, Miss. Laina</td>\n",
       "      <td>3</td>\n",
       "      <td>22</td>\n",
       "      <td>Miss</td>\n",
       "      <td>9</td>\n",
       "      <td>1.0</td>\n",
       "      <td>0.0</td>\n",
       "      <td>0.0</td>\n",
       "      <td>0.0</td>\n",
       "      <td>0.0</td>\n",
       "      <td>...</td>\n",
       "      <td>0.0</td>\n",
       "      <td>0.0</td>\n",
       "      <td>1.0</td>\n",
       "      <td>0.0</td>\n",
       "      <td>0.0</td>\n",
       "      <td>0.0</td>\n",
       "      <td>0.0</td>\n",
       "      <td>0.0</td>\n",
       "      <td>0.0</td>\n",
       "      <td>0.0</td>\n",
       "    </tr>\n",
       "    <tr>\n",
       "      <th>3</th>\n",
       "      <td>Futrelle, Mrs. Jacques Heath (Lily May Peel)</td>\n",
       "      <td>7</td>\n",
       "      <td>44</td>\n",
       "      <td>Mrs</td>\n",
       "      <td>13</td>\n",
       "      <td>2.0</td>\n",
       "      <td>0.0</td>\n",
       "      <td>0.0</td>\n",
       "      <td>0.0</td>\n",
       "      <td>0.0</td>\n",
       "      <td>...</td>\n",
       "      <td>0.0</td>\n",
       "      <td>0.0</td>\n",
       "      <td>0.0</td>\n",
       "      <td>0.0</td>\n",
       "      <td>0.0</td>\n",
       "      <td>0.0</td>\n",
       "      <td>1.0</td>\n",
       "      <td>0.0</td>\n",
       "      <td>0.0</td>\n",
       "      <td>0.0</td>\n",
       "    </tr>\n",
       "    <tr>\n",
       "      <th>4</th>\n",
       "      <td>Allen, Mr. William Henry</td>\n",
       "      <td>4</td>\n",
       "      <td>24</td>\n",
       "      <td>Mr</td>\n",
       "      <td>12</td>\n",
       "      <td>0.0</td>\n",
       "      <td>0.0</td>\n",
       "      <td>0.0</td>\n",
       "      <td>0.0</td>\n",
       "      <td>0.0</td>\n",
       "      <td>...</td>\n",
       "      <td>0.0</td>\n",
       "      <td>0.0</td>\n",
       "      <td>0.0</td>\n",
       "      <td>0.0</td>\n",
       "      <td>0.0</td>\n",
       "      <td>1.0</td>\n",
       "      <td>0.0</td>\n",
       "      <td>0.0</td>\n",
       "      <td>0.0</td>\n",
       "      <td>0.0</td>\n",
       "    </tr>\n",
       "  </tbody>\n",
       "</table>\n",
       "<p>5 rows × 23 columns</p>\n",
       "</div>"
      ],
      "text/plain": [
       "                                                Name  Name_Words  Name_Length  \\\n",
       "0                            Braund, Mr. Owen Harris           4           23   \n",
       "1  Cumings, Mrs. John Bradley (Florence Briggs Th...           7           51   \n",
       "2                             Heikkinen, Miss. Laina           3           22   \n",
       "3       Futrelle, Mrs. Jacques Heath (Lily May Peel)           7           44   \n",
       "4                           Allen, Mr. William Henry           4           24   \n",
       "\n",
       "  Name_Init  Name_Init_labelencode  Name_Init_ordinalencode  Name_Init_Capt  \\\n",
       "0        Mr                     12                      0.0             0.0   \n",
       "1       Mrs                     13                      2.0             0.0   \n",
       "2      Miss                      9                      1.0             0.0   \n",
       "3       Mrs                     13                      2.0             0.0   \n",
       "4        Mr                     12                      0.0             0.0   \n",
       "\n",
       "   Name_Init_Col  Name_Init_Countess  Name_Init_Don  ...  Name_Init_Major  \\\n",
       "0            0.0                 0.0            0.0  ...              0.0   \n",
       "1            0.0                 0.0            0.0  ...              0.0   \n",
       "2            0.0                 0.0            0.0  ...              0.0   \n",
       "3            0.0                 0.0            0.0  ...              0.0   \n",
       "4            0.0                 0.0            0.0  ...              0.0   \n",
       "\n",
       "   Name_Init_Master  Name_Init_Miss  Name_Init_Mlle  Name_Init_Mme  \\\n",
       "0               0.0             0.0             0.0            0.0   \n",
       "1               0.0             0.0             0.0            0.0   \n",
       "2               0.0             1.0             0.0            0.0   \n",
       "3               0.0             0.0             0.0            0.0   \n",
       "4               0.0             0.0             0.0            0.0   \n",
       "\n",
       "   Name_Init_Mr  Name_Init_Mrs  Name_Init_Ms  Name_Init_Rev  Name_Init_Sir  \n",
       "0           1.0            0.0           0.0            0.0            0.0  \n",
       "1           0.0            1.0           0.0            0.0            0.0  \n",
       "2           0.0            0.0           0.0            0.0            0.0  \n",
       "3           0.0            1.0           0.0            0.0            0.0  \n",
       "4           1.0            0.0           0.0            0.0            0.0  \n",
       "\n",
       "[5 rows x 23 columns]"
      ]
     },
     "execution_count": 318,
     "metadata": {},
     "output_type": "execute_result"
    }
   ],
   "source": [
    "TEXT_DF.head()"
   ]
  },
  {
   "cell_type": "code",
   "execution_count": 319,
   "metadata": {},
   "outputs": [],
   "source": [
    "TEXT_COLS_ENCODED = [col for col in TEXT_DF.columns if col not in [\"Name\", \"Name_Init\"]]"
   ]
  },
  {
   "cell_type": "code",
   "execution_count": 320,
   "metadata": {},
   "outputs": [
    {
     "data": {
      "text/plain": [
       "['Name_Words',\n",
       " 'Name_Length',\n",
       " 'Name_Init_labelencode',\n",
       " 'Name_Init_ordinalencode',\n",
       " 'Name_Init_Capt',\n",
       " 'Name_Init_Col',\n",
       " 'Name_Init_Countess',\n",
       " 'Name_Init_Don',\n",
       " 'Name_Init_Dr',\n",
       " 'Name_Init_Jonkheer',\n",
       " 'Name_Init_Lady',\n",
       " 'Name_Init_Major',\n",
       " 'Name_Init_Master',\n",
       " 'Name_Init_Miss',\n",
       " 'Name_Init_Mlle',\n",
       " 'Name_Init_Mme',\n",
       " 'Name_Init_Mr',\n",
       " 'Name_Init_Mrs',\n",
       " 'Name_Init_Ms',\n",
       " 'Name_Init_Rev',\n",
       " 'Name_Init_Sir']"
      ]
     },
     "execution_count": 320,
     "metadata": {},
     "output_type": "execute_result"
    }
   ],
   "source": [
    "TEXT_COLS_ENCODED"
   ]
  },
  {
   "cell_type": "code",
   "execution_count": 321,
   "metadata": {},
   "outputs": [],
   "source": [
    "ENCODED_TEXT_DATA = TEXT_DF[TEXT_COLS_ENCODED].copy()"
   ]
  },
  {
   "cell_type": "code",
   "execution_count": 322,
   "metadata": {},
   "outputs": [
    {
     "data": {
      "text/html": [
       "<div>\n",
       "<style scoped>\n",
       "    .dataframe tbody tr th:only-of-type {\n",
       "        vertical-align: middle;\n",
       "    }\n",
       "\n",
       "    .dataframe tbody tr th {\n",
       "        vertical-align: top;\n",
       "    }\n",
       "\n",
       "    .dataframe thead th {\n",
       "        text-align: right;\n",
       "    }\n",
       "</style>\n",
       "<table border=\"1\" class=\"dataframe\">\n",
       "  <thead>\n",
       "    <tr style=\"text-align: right;\">\n",
       "      <th></th>\n",
       "      <th>Name_Words</th>\n",
       "      <th>Name_Length</th>\n",
       "      <th>Name_Init_labelencode</th>\n",
       "      <th>Name_Init_ordinalencode</th>\n",
       "      <th>Name_Init_Capt</th>\n",
       "      <th>Name_Init_Col</th>\n",
       "      <th>Name_Init_Countess</th>\n",
       "      <th>Name_Init_Don</th>\n",
       "      <th>Name_Init_Dr</th>\n",
       "      <th>Name_Init_Jonkheer</th>\n",
       "      <th>...</th>\n",
       "      <th>Name_Init_Major</th>\n",
       "      <th>Name_Init_Master</th>\n",
       "      <th>Name_Init_Miss</th>\n",
       "      <th>Name_Init_Mlle</th>\n",
       "      <th>Name_Init_Mme</th>\n",
       "      <th>Name_Init_Mr</th>\n",
       "      <th>Name_Init_Mrs</th>\n",
       "      <th>Name_Init_Ms</th>\n",
       "      <th>Name_Init_Rev</th>\n",
       "      <th>Name_Init_Sir</th>\n",
       "    </tr>\n",
       "  </thead>\n",
       "  <tbody>\n",
       "    <tr>\n",
       "      <th>0</th>\n",
       "      <td>4</td>\n",
       "      <td>23</td>\n",
       "      <td>12</td>\n",
       "      <td>0.0</td>\n",
       "      <td>0.0</td>\n",
       "      <td>0.0</td>\n",
       "      <td>0.0</td>\n",
       "      <td>0.0</td>\n",
       "      <td>0.0</td>\n",
       "      <td>0.0</td>\n",
       "      <td>...</td>\n",
       "      <td>0.0</td>\n",
       "      <td>0.0</td>\n",
       "      <td>0.0</td>\n",
       "      <td>0.0</td>\n",
       "      <td>0.0</td>\n",
       "      <td>1.0</td>\n",
       "      <td>0.0</td>\n",
       "      <td>0.0</td>\n",
       "      <td>0.0</td>\n",
       "      <td>0.0</td>\n",
       "    </tr>\n",
       "    <tr>\n",
       "      <th>1</th>\n",
       "      <td>7</td>\n",
       "      <td>51</td>\n",
       "      <td>13</td>\n",
       "      <td>2.0</td>\n",
       "      <td>0.0</td>\n",
       "      <td>0.0</td>\n",
       "      <td>0.0</td>\n",
       "      <td>0.0</td>\n",
       "      <td>0.0</td>\n",
       "      <td>0.0</td>\n",
       "      <td>...</td>\n",
       "      <td>0.0</td>\n",
       "      <td>0.0</td>\n",
       "      <td>0.0</td>\n",
       "      <td>0.0</td>\n",
       "      <td>0.0</td>\n",
       "      <td>0.0</td>\n",
       "      <td>1.0</td>\n",
       "      <td>0.0</td>\n",
       "      <td>0.0</td>\n",
       "      <td>0.0</td>\n",
       "    </tr>\n",
       "    <tr>\n",
       "      <th>2</th>\n",
       "      <td>3</td>\n",
       "      <td>22</td>\n",
       "      <td>9</td>\n",
       "      <td>1.0</td>\n",
       "      <td>0.0</td>\n",
       "      <td>0.0</td>\n",
       "      <td>0.0</td>\n",
       "      <td>0.0</td>\n",
       "      <td>0.0</td>\n",
       "      <td>0.0</td>\n",
       "      <td>...</td>\n",
       "      <td>0.0</td>\n",
       "      <td>0.0</td>\n",
       "      <td>1.0</td>\n",
       "      <td>0.0</td>\n",
       "      <td>0.0</td>\n",
       "      <td>0.0</td>\n",
       "      <td>0.0</td>\n",
       "      <td>0.0</td>\n",
       "      <td>0.0</td>\n",
       "      <td>0.0</td>\n",
       "    </tr>\n",
       "    <tr>\n",
       "      <th>3</th>\n",
       "      <td>7</td>\n",
       "      <td>44</td>\n",
       "      <td>13</td>\n",
       "      <td>2.0</td>\n",
       "      <td>0.0</td>\n",
       "      <td>0.0</td>\n",
       "      <td>0.0</td>\n",
       "      <td>0.0</td>\n",
       "      <td>0.0</td>\n",
       "      <td>0.0</td>\n",
       "      <td>...</td>\n",
       "      <td>0.0</td>\n",
       "      <td>0.0</td>\n",
       "      <td>0.0</td>\n",
       "      <td>0.0</td>\n",
       "      <td>0.0</td>\n",
       "      <td>0.0</td>\n",
       "      <td>1.0</td>\n",
       "      <td>0.0</td>\n",
       "      <td>0.0</td>\n",
       "      <td>0.0</td>\n",
       "    </tr>\n",
       "    <tr>\n",
       "      <th>4</th>\n",
       "      <td>4</td>\n",
       "      <td>24</td>\n",
       "      <td>12</td>\n",
       "      <td>0.0</td>\n",
       "      <td>0.0</td>\n",
       "      <td>0.0</td>\n",
       "      <td>0.0</td>\n",
       "      <td>0.0</td>\n",
       "      <td>0.0</td>\n",
       "      <td>0.0</td>\n",
       "      <td>...</td>\n",
       "      <td>0.0</td>\n",
       "      <td>0.0</td>\n",
       "      <td>0.0</td>\n",
       "      <td>0.0</td>\n",
       "      <td>0.0</td>\n",
       "      <td>1.0</td>\n",
       "      <td>0.0</td>\n",
       "      <td>0.0</td>\n",
       "      <td>0.0</td>\n",
       "      <td>0.0</td>\n",
       "    </tr>\n",
       "  </tbody>\n",
       "</table>\n",
       "<p>5 rows × 21 columns</p>\n",
       "</div>"
      ],
      "text/plain": [
       "   Name_Words  Name_Length  Name_Init_labelencode  Name_Init_ordinalencode  \\\n",
       "0           4           23                     12                      0.0   \n",
       "1           7           51                     13                      2.0   \n",
       "2           3           22                      9                      1.0   \n",
       "3           7           44                     13                      2.0   \n",
       "4           4           24                     12                      0.0   \n",
       "\n",
       "   Name_Init_Capt  Name_Init_Col  Name_Init_Countess  Name_Init_Don  \\\n",
       "0             0.0            0.0                 0.0            0.0   \n",
       "1             0.0            0.0                 0.0            0.0   \n",
       "2             0.0            0.0                 0.0            0.0   \n",
       "3             0.0            0.0                 0.0            0.0   \n",
       "4             0.0            0.0                 0.0            0.0   \n",
       "\n",
       "   Name_Init_Dr  Name_Init_Jonkheer  ...  Name_Init_Major  Name_Init_Master  \\\n",
       "0           0.0                 0.0  ...              0.0               0.0   \n",
       "1           0.0                 0.0  ...              0.0               0.0   \n",
       "2           0.0                 0.0  ...              0.0               0.0   \n",
       "3           0.0                 0.0  ...              0.0               0.0   \n",
       "4           0.0                 0.0  ...              0.0               0.0   \n",
       "\n",
       "   Name_Init_Miss  Name_Init_Mlle  Name_Init_Mme  Name_Init_Mr  Name_Init_Mrs  \\\n",
       "0             0.0             0.0            0.0           1.0            0.0   \n",
       "1             0.0             0.0            0.0           0.0            1.0   \n",
       "2             1.0             0.0            0.0           0.0            0.0   \n",
       "3             0.0             0.0            0.0           0.0            1.0   \n",
       "4             0.0             0.0            0.0           1.0            0.0   \n",
       "\n",
       "   Name_Init_Ms  Name_Init_Rev  Name_Init_Sir  \n",
       "0           0.0            0.0            0.0  \n",
       "1           0.0            0.0            0.0  \n",
       "2           0.0            0.0            0.0  \n",
       "3           0.0            0.0            0.0  \n",
       "4           0.0            0.0            0.0  \n",
       "\n",
       "[5 rows x 21 columns]"
      ]
     },
     "execution_count": 322,
     "metadata": {},
     "output_type": "execute_result"
    }
   ],
   "source": [
    "ENCODED_TEXT_DATA.head()"
   ]
  },
  {
   "cell_type": "markdown",
   "metadata": {},
   "source": [
    "## Handeling Categorical Feature"
   ]
  },
  {
   "cell_type": "code",
   "execution_count": 323,
   "metadata": {},
   "outputs": [
    {
     "data": {
      "text/plain": [
       "['Sex', 'Ticket', 'Cabin', 'Embarked']"
      ]
     },
     "execution_count": 323,
     "metadata": {},
     "output_type": "execute_result"
    }
   ],
   "source": [
    "CAT_FEATURES"
   ]
  },
  {
   "cell_type": "code",
   "execution_count": 324,
   "metadata": {},
   "outputs": [],
   "source": [
    "# copying categorical features\n",
    "CAT_DF = df[CAT_FEATURES].copy()"
   ]
  },
  {
   "cell_type": "code",
   "execution_count": 325,
   "metadata": {},
   "outputs": [
    {
     "data": {
      "text/html": [
       "<div>\n",
       "<style scoped>\n",
       "    .dataframe tbody tr th:only-of-type {\n",
       "        vertical-align: middle;\n",
       "    }\n",
       "\n",
       "    .dataframe tbody tr th {\n",
       "        vertical-align: top;\n",
       "    }\n",
       "\n",
       "    .dataframe thead th {\n",
       "        text-align: right;\n",
       "    }\n",
       "</style>\n",
       "<table border=\"1\" class=\"dataframe\">\n",
       "  <thead>\n",
       "    <tr style=\"text-align: right;\">\n",
       "      <th></th>\n",
       "      <th>Sex</th>\n",
       "      <th>Ticket</th>\n",
       "      <th>Cabin</th>\n",
       "      <th>Embarked</th>\n",
       "    </tr>\n",
       "  </thead>\n",
       "  <tbody>\n",
       "    <tr>\n",
       "      <th>0</th>\n",
       "      <td>male</td>\n",
       "      <td>A/5 21171</td>\n",
       "      <td>Missing</td>\n",
       "      <td>S</td>\n",
       "    </tr>\n",
       "    <tr>\n",
       "      <th>1</th>\n",
       "      <td>female</td>\n",
       "      <td>PC 17599</td>\n",
       "      <td>C85</td>\n",
       "      <td>C</td>\n",
       "    </tr>\n",
       "    <tr>\n",
       "      <th>2</th>\n",
       "      <td>female</td>\n",
       "      <td>STON/O2. 3101282</td>\n",
       "      <td>Missing</td>\n",
       "      <td>S</td>\n",
       "    </tr>\n",
       "    <tr>\n",
       "      <th>3</th>\n",
       "      <td>female</td>\n",
       "      <td>113803</td>\n",
       "      <td>C123</td>\n",
       "      <td>S</td>\n",
       "    </tr>\n",
       "    <tr>\n",
       "      <th>4</th>\n",
       "      <td>male</td>\n",
       "      <td>373450</td>\n",
       "      <td>Missing</td>\n",
       "      <td>S</td>\n",
       "    </tr>\n",
       "  </tbody>\n",
       "</table>\n",
       "</div>"
      ],
      "text/plain": [
       "      Sex            Ticket    Cabin Embarked\n",
       "0    male         A/5 21171  Missing        S\n",
       "1  female          PC 17599      C85        C\n",
       "2  female  STON/O2. 3101282  Missing        S\n",
       "3  female            113803     C123        S\n",
       "4    male            373450  Missing        S"
      ]
     },
     "execution_count": 325,
     "metadata": {},
     "output_type": "execute_result"
    }
   ],
   "source": [
    "CAT_DF.head()"
   ]
  },
  {
   "cell_type": "markdown",
   "metadata": {},
   "source": [
    "### Feature Engineering : Sex"
   ]
  },
  {
   "cell_type": "code",
   "execution_count": 339,
   "metadata": {},
   "outputs": [],
   "source": [
    "encode_cat = DataEncoding(CAT_DF)"
   ]
  },
  {
   "cell_type": "markdown",
   "metadata": {},
   "source": [
    "#### Feature Encoding : Sex"
   ]
  },
  {
   "cell_type": "code",
   "execution_count": 340,
   "metadata": {},
   "outputs": [
    {
     "name": "stdout",
     "output_type": "stream",
     "text": [
      "Applied Label Encoded : Sex --> Sex_labelencode\n"
     ]
    }
   ],
   "source": [
    "encode_cat.lable_encode(\"Sex\", \"Sex_labelencode\")"
   ]
  },
  {
   "cell_type": "code",
   "execution_count": 341,
   "metadata": {},
   "outputs": [
    {
     "data": {
      "text/html": [
       "<div>\n",
       "<style scoped>\n",
       "    .dataframe tbody tr th:only-of-type {\n",
       "        vertical-align: middle;\n",
       "    }\n",
       "\n",
       "    .dataframe tbody tr th {\n",
       "        vertical-align: top;\n",
       "    }\n",
       "\n",
       "    .dataframe thead th {\n",
       "        text-align: right;\n",
       "    }\n",
       "</style>\n",
       "<table border=\"1\" class=\"dataframe\">\n",
       "  <thead>\n",
       "    <tr style=\"text-align: right;\">\n",
       "      <th></th>\n",
       "      <th>Sex</th>\n",
       "      <th>Ticket</th>\n",
       "      <th>Cabin</th>\n",
       "      <th>Embarked</th>\n",
       "      <th>Sex_labelencode</th>\n",
       "    </tr>\n",
       "  </thead>\n",
       "  <tbody>\n",
       "    <tr>\n",
       "      <th>0</th>\n",
       "      <td>male</td>\n",
       "      <td>A/5 21171</td>\n",
       "      <td>Missing</td>\n",
       "      <td>S</td>\n",
       "      <td>1</td>\n",
       "    </tr>\n",
       "    <tr>\n",
       "      <th>1</th>\n",
       "      <td>female</td>\n",
       "      <td>PC 17599</td>\n",
       "      <td>C85</td>\n",
       "      <td>C</td>\n",
       "      <td>0</td>\n",
       "    </tr>\n",
       "    <tr>\n",
       "      <th>2</th>\n",
       "      <td>female</td>\n",
       "      <td>STON/O2. 3101282</td>\n",
       "      <td>Missing</td>\n",
       "      <td>S</td>\n",
       "      <td>0</td>\n",
       "    </tr>\n",
       "    <tr>\n",
       "      <th>3</th>\n",
       "      <td>female</td>\n",
       "      <td>113803</td>\n",
       "      <td>C123</td>\n",
       "      <td>S</td>\n",
       "      <td>0</td>\n",
       "    </tr>\n",
       "    <tr>\n",
       "      <th>4</th>\n",
       "      <td>male</td>\n",
       "      <td>373450</td>\n",
       "      <td>Missing</td>\n",
       "      <td>S</td>\n",
       "      <td>1</td>\n",
       "    </tr>\n",
       "  </tbody>\n",
       "</table>\n",
       "</div>"
      ],
      "text/plain": [
       "      Sex            Ticket    Cabin Embarked  Sex_labelencode\n",
       "0    male         A/5 21171  Missing        S                1\n",
       "1  female          PC 17599      C85        C                0\n",
       "2  female  STON/O2. 3101282  Missing        S                0\n",
       "3  female            113803     C123        S                0\n",
       "4    male            373450  Missing        S                1"
      ]
     },
     "execution_count": 341,
     "metadata": {},
     "output_type": "execute_result"
    }
   ],
   "source": [
    "encode_cat.df.head()"
   ]
  },
  {
   "cell_type": "markdown",
   "metadata": {},
   "source": [
    "### Feature Engineering : Embarked"
   ]
  },
  {
   "cell_type": "code",
   "execution_count": 342,
   "metadata": {},
   "outputs": [
    {
     "data": {
      "text/plain": [
       "<Axes: xlabel='count', ylabel='Embarked'>"
      ]
     },
     "execution_count": 342,
     "metadata": {},
     "output_type": "execute_result"
    },
    {
     "data": {
      "image/png": "[encoded data removed]",
      "text/plain": [
       "<Figure size 640x480 with 1 Axes>"
      ]
     },
     "metadata": {},
     "output_type": "display_data"
    }
   ],
   "source": [
    "sns.countplot(data=CAT_DF, y=\"Embarked\")"
   ]
  },
  {
   "cell_type": "markdown",
   "metadata": {},
   "source": [
    "- Embarked - basically stations or can say stops from where passengers onboarded the ship\n",
    "\n",
    "`S = Southampton [0], C = Cherbourg [1], Q = Queenstown [2], `"
   ]
  },
  {
   "cell_type": "markdown",
   "metadata": {},
   "source": [
    "#### Feature Encoding : Embarked"
   ]
  },
  {
   "cell_type": "code",
   "execution_count": 343,
   "metadata": {},
   "outputs": [
    {
     "name": "stdout",
     "output_type": "stream",
     "text": [
      "Applied Label Encoded : Embarked --> Embraked_labelencoded\n"
     ]
    }
   ],
   "source": [
    "encode_cat.lable_encode(\"Embarked\", \"Embraked_labelencoded\")"
   ]
  },
  {
   "cell_type": "code",
   "execution_count": 344,
   "metadata": {},
   "outputs": [
    {
     "name": "stdout",
     "output_type": "stream",
     "text": [
      "Applied Ordinal Encoded : Embarked --> Embarked_ordinalencode\n"
     ]
    }
   ],
   "source": [
    "encode_cat.ordinal_encode(\"Embarked\", \"Embarked_ordinalencode\", ['S', 'C', 'Q'])"
   ]
  },
  {
   "cell_type": "code",
   "execution_count": 345,
   "metadata": {},
   "outputs": [
    {
     "name": "stdout",
     "output_type": "stream",
     "text": [
      "OneHotEncoder Applied on : Embarked\n"
     ]
    }
   ],
   "source": [
    "encode_cat.onehot_encode(\"Embarked\", \"Embarked\")"
   ]
  },
  {
   "cell_type": "code",
   "execution_count": 346,
   "metadata": {},
   "outputs": [
    {
     "data": {
      "text/html": [
       "<div>\n",
       "<style scoped>\n",
       "    .dataframe tbody tr th:only-of-type {\n",
       "        vertical-align: middle;\n",
       "    }\n",
       "\n",
       "    .dataframe tbody tr th {\n",
       "        vertical-align: top;\n",
       "    }\n",
       "\n",
       "    .dataframe thead th {\n",
       "        text-align: right;\n",
       "    }\n",
       "</style>\n",
       "<table border=\"1\" class=\"dataframe\">\n",
       "  <thead>\n",
       "    <tr style=\"text-align: right;\">\n",
       "      <th></th>\n",
       "      <th>Sex</th>\n",
       "      <th>Ticket</th>\n",
       "      <th>Cabin</th>\n",
       "      <th>Embarked</th>\n",
       "      <th>Sex_labelencode</th>\n",
       "      <th>Embraked_labelencoded</th>\n",
       "      <th>Embarked_ordinalencode</th>\n",
       "      <th>Embarked_C</th>\n",
       "      <th>Embarked_Q</th>\n",
       "      <th>Embarked_S</th>\n",
       "    </tr>\n",
       "  </thead>\n",
       "  <tbody>\n",
       "    <tr>\n",
       "      <th>0</th>\n",
       "      <td>male</td>\n",
       "      <td>A/5 21171</td>\n",
       "      <td>Missing</td>\n",
       "      <td>S</td>\n",
       "      <td>1</td>\n",
       "      <td>2</td>\n",
       "      <td>0.0</td>\n",
       "      <td>0.0</td>\n",
       "      <td>0.0</td>\n",
       "      <td>1.0</td>\n",
       "    </tr>\n",
       "    <tr>\n",
       "      <th>1</th>\n",
       "      <td>female</td>\n",
       "      <td>PC 17599</td>\n",
       "      <td>C85</td>\n",
       "      <td>C</td>\n",
       "      <td>0</td>\n",
       "      <td>0</td>\n",
       "      <td>1.0</td>\n",
       "      <td>1.0</td>\n",
       "      <td>0.0</td>\n",
       "      <td>0.0</td>\n",
       "    </tr>\n",
       "    <tr>\n",
       "      <th>2</th>\n",
       "      <td>female</td>\n",
       "      <td>STON/O2. 3101282</td>\n",
       "      <td>Missing</td>\n",
       "      <td>S</td>\n",
       "      <td>0</td>\n",
       "      <td>2</td>\n",
       "      <td>0.0</td>\n",
       "      <td>0.0</td>\n",
       "      <td>0.0</td>\n",
       "      <td>1.0</td>\n",
       "    </tr>\n",
       "    <tr>\n",
       "      <th>3</th>\n",
       "      <td>female</td>\n",
       "      <td>113803</td>\n",
       "      <td>C123</td>\n",
       "      <td>S</td>\n",
       "      <td>0</td>\n",
       "      <td>2</td>\n",
       "      <td>0.0</td>\n",
       "      <td>0.0</td>\n",
       "      <td>0.0</td>\n",
       "      <td>1.0</td>\n",
       "    </tr>\n",
       "    <tr>\n",
       "      <th>4</th>\n",
       "      <td>male</td>\n",
       "      <td>373450</td>\n",
       "      <td>Missing</td>\n",
       "      <td>S</td>\n",
       "      <td>1</td>\n",
       "      <td>2</td>\n",
       "      <td>0.0</td>\n",
       "      <td>0.0</td>\n",
       "      <td>0.0</td>\n",
       "      <td>1.0</td>\n",
       "    </tr>\n",
       "  </tbody>\n",
       "</table>\n",
       "</div>"
      ],
      "text/plain": [
       "      Sex            Ticket    Cabin Embarked  Sex_labelencode  \\\n",
       "0    male         A/5 21171  Missing        S                1   \n",
       "1  female          PC 17599      C85        C                0   \n",
       "2  female  STON/O2. 3101282  Missing        S                0   \n",
       "3  female            113803     C123        S                0   \n",
       "4    male            373450  Missing        S                1   \n",
       "\n",
       "   Embraked_labelencoded  Embarked_ordinalencode  Embarked_C  Embarked_Q  \\\n",
       "0                      2                     0.0         0.0         0.0   \n",
       "1                      0                     1.0         1.0         0.0   \n",
       "2                      2                     0.0         0.0         0.0   \n",
       "3                      2                     0.0         0.0         0.0   \n",
       "4                      2                     0.0         0.0         0.0   \n",
       "\n",
       "   Embarked_S  \n",
       "0         1.0  \n",
       "1         0.0  \n",
       "2         1.0  \n",
       "3         1.0  \n",
       "4         1.0  "
      ]
     },
     "execution_count": 346,
     "metadata": {},
     "output_type": "execute_result"
    }
   ],
   "source": [
    "encode_cat.df.head()"
   ]
  },
  {
   "cell_type": "markdown",
   "metadata": {},
   "source": [
    "## Handeling Numerical Feature"
   ]
  },
  {
   "cell_type": "code",
   "execution_count": 347,
   "metadata": {},
   "outputs": [
    {
     "data": {
      "text/plain": [
       "['Pclass', 'Age', 'SibSp', 'Parch', 'Fare']"
      ]
     },
     "execution_count": 347,
     "metadata": {},
     "output_type": "execute_result"
    }
   ],
   "source": [
    "NUM_FEATURES"
   ]
  },
  {
   "cell_type": "code",
   "execution_count": 348,
   "metadata": {},
   "outputs": [],
   "source": [
    "# copying numerical features\n",
    "NUM_DF = df[NUM_FEATURES].copy()"
   ]
  },
  {
   "cell_type": "code",
   "execution_count": 349,
   "metadata": {},
   "outputs": [
    {
     "data": {
      "text/html": [
       "<div>\n",
       "<style scoped>\n",
       "    .dataframe tbody tr th:only-of-type {\n",
       "        vertical-align: middle;\n",
       "    }\n",
       "\n",
       "    .dataframe tbody tr th {\n",
       "        vertical-align: top;\n",
       "    }\n",
       "\n",
       "    .dataframe thead th {\n",
       "        text-align: right;\n",
       "    }\n",
       "</style>\n",
       "<table border=\"1\" class=\"dataframe\">\n",
       "  <thead>\n",
       "    <tr style=\"text-align: right;\">\n",
       "      <th></th>\n",
       "      <th>Pclass</th>\n",
       "      <th>Age</th>\n",
       "      <th>SibSp</th>\n",
       "      <th>Parch</th>\n",
       "      <th>Fare</th>\n",
       "    </tr>\n",
       "  </thead>\n",
       "  <tbody>\n",
       "    <tr>\n",
       "      <th>0</th>\n",
       "      <td>3</td>\n",
       "      <td>22.0</td>\n",
       "      <td>1</td>\n",
       "      <td>0</td>\n",
       "      <td>7.2500</td>\n",
       "    </tr>\n",
       "    <tr>\n",
       "      <th>1</th>\n",
       "      <td>1</td>\n",
       "      <td>38.0</td>\n",
       "      <td>1</td>\n",
       "      <td>0</td>\n",
       "      <td>71.2833</td>\n",
       "    </tr>\n",
       "    <tr>\n",
       "      <th>2</th>\n",
       "      <td>3</td>\n",
       "      <td>26.0</td>\n",
       "      <td>0</td>\n",
       "      <td>0</td>\n",
       "      <td>7.9250</td>\n",
       "    </tr>\n",
       "    <tr>\n",
       "      <th>3</th>\n",
       "      <td>1</td>\n",
       "      <td>35.0</td>\n",
       "      <td>1</td>\n",
       "      <td>0</td>\n",
       "      <td>53.1000</td>\n",
       "    </tr>\n",
       "    <tr>\n",
       "      <th>4</th>\n",
       "      <td>3</td>\n",
       "      <td>35.0</td>\n",
       "      <td>0</td>\n",
       "      <td>0</td>\n",
       "      <td>8.0500</td>\n",
       "    </tr>\n",
       "  </tbody>\n",
       "</table>\n",
       "</div>"
      ],
      "text/plain": [
       "   Pclass   Age  SibSp  Parch     Fare\n",
       "0       3  22.0      1      0   7.2500\n",
       "1       1  38.0      1      0  71.2833\n",
       "2       3  26.0      0      0   7.9250\n",
       "3       1  35.0      1      0  53.1000\n",
       "4       3  35.0      0      0   8.0500"
      ]
     },
     "execution_count": 349,
     "metadata": {},
     "output_type": "execute_result"
    }
   ],
   "source": [
    "NUM_DF.head()"
   ]
  },
  {
   "cell_type": "markdown",
   "metadata": {},
   "source": [
    "#### Feature Engineering : Transformation"
   ]
  },
  {
   "cell_type": "code",
   "execution_count": null,
   "metadata": {},
   "outputs": [],
   "source": []
  },
  {
   "cell_type": "code",
   "execution_count": null,
   "metadata": {},
   "outputs": [],
   "source": []
  },
  {
   "cell_type": "code",
   "execution_count": null,
   "metadata": {},
   "outputs": [],
   "source": []
  },
  {
   "cell_type": "markdown",
   "metadata": {},
   "source": [
    "## Scaling and Normalization\n",
    "\n",
    "Scaling entire data "
   ]
  },
  {
   "cell_type": "code",
   "execution_count": null,
   "metadata": {},
   "outputs": [],
   "source": []
  },
  {
   "cell_type": "code",
   "execution_count": null,
   "metadata": {},
   "outputs": [],
   "source": []
  },
  {
   "cell_type": "code",
   "execution_count": null,
   "metadata": {},
   "outputs": [],
   "source": []
  },
  {
   "cell_type": "markdown",
   "metadata": {},
   "source": [
    "## Data Export"
   ]
  },
  {
   "cell_type": "code",
   "execution_count": 356,
   "metadata": {},
   "outputs": [],
   "source": [
    "def export_data(list_of_data:List, file_name:str) -> None:\n",
    "    final_data = pd.concat(list_of_data, axis=1)\n",
    "    PATH  = os.path.join(DATA_DIR, \"Transformed_data\")\n",
    "    os.makedirs(PATH, exist_ok=True)\n",
    "    SAVE_PATH  = os.path.join(PATH, file_name)\n",
    "    final_data.to_csv(SAVE_PATH, index=False)\n",
    "    print(f\"Saved at: {SAVE_PATH}\")"
   ]
  },
  {
   "cell_type": "code",
   "execution_count": 357,
   "metadata": {},
   "outputs": [
    {
     "name": "stdout",
     "output_type": "stream",
     "text": [
      "Saved at: f:\\Data Science\\Rahul Data Science\\INeuron\\Projects\\Titanic_Problem_Kaggel\\Dataset\\clean_data\\Transformed_data\\train_iteratoin4.csv\n"
     ]
    }
   ],
   "source": [
    "export_data(list_of_data=[encode_text.df, encode_cat.df], \n",
    "            file_name=\"train_iteratoin4.csv\")"
   ]
  },
  {
   "cell_type": "markdown",
   "metadata": {},
   "source": []
  }
 ],
 "metadata": {
  "kernelspec": {
   "display_name": "base",
   "language": "python",
   "name": "python3"
  },
  "language_info": {
   "codemirror_mode": {
    "name": "ipython",
    "version": 3
   },
   "file_extension": ".py",
   "mimetype": "text/x-python",
   "name": "python",
   "nbconvert_exporter": "python",
   "pygments_lexer": "ipython3",
   "version": "3.10.0"
  }
 },
 "nbformat": 4,
 "nbformat_minor": 2
}
